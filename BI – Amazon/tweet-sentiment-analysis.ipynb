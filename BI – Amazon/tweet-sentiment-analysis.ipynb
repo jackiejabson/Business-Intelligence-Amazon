{
 "cells": [
  {
   "cell_type": "code",
   "execution_count": 2,
   "id": "4dae9380",
   "metadata": {},
   "outputs": [
    {
     "name": "stdout",
     "output_type": "stream",
     "text": [
      "Requirement already satisfied: vaderSentiment in /Users/jackiejabson/opt/anaconda3/lib/python3.9/site-packages (3.3.2)\r\n",
      "Requirement already satisfied: requests in /Users/jackiejabson/opt/anaconda3/lib/python3.9/site-packages (from vaderSentiment) (2.28.1)\r\n",
      "Requirement already satisfied: certifi>=2017.4.17 in /Users/jackiejabson/opt/anaconda3/lib/python3.9/site-packages (from requests->vaderSentiment) (2021.10.8)\r\n",
      "Requirement already satisfied: urllib3<1.27,>=1.21.1 in /Users/jackiejabson/opt/anaconda3/lib/python3.9/site-packages (from requests->vaderSentiment) (1.26.7)\r\n",
      "Requirement already satisfied: idna<4,>=2.5 in /Users/jackiejabson/opt/anaconda3/lib/python3.9/site-packages (from requests->vaderSentiment) (3.2)\r\n",
      "Requirement already satisfied: charset-normalizer<3,>=2 in /Users/jackiejabson/opt/anaconda3/lib/python3.9/site-packages (from requests->vaderSentiment) (2.0.4)\r\n"
     ]
    }
   ],
   "source": [
    "import pandas as pd\n",
    "import numpy as np\n",
    "import matplotlib.pyplot as plt #for some plotting\n",
    "import seaborn as sns #It provides a high-level interface for drawing informative statistical graphics\n",
    "\n",
    "!pip install vaderSentiment\n",
    "import nltk as nl\n",
    "\n",
    "from sklearn.model_selection import train_test_split, StratifiedKFold, cross_val_score\n",
    "\n",
    "plt.style.use('ggplot')"
   ]
  },
  {
   "cell_type": "markdown",
   "id": "756ab9d0",
   "metadata": {},
   "source": [
    "### Section 01: Reading Dataset"
   ]
  },
  {
   "cell_type": "code",
   "execution_count": 3,
   "id": "bbbcd8e9",
   "metadata": {},
   "outputs": [],
   "source": [
    "# Read in dataset\n",
    "df_tweets = pd.read_csv('/Users/jackiejabson/Desktop/TweetData_raw.csv', sep=\";\")"
   ]
  },
  {
   "cell_type": "code",
   "execution_count": 4,
   "id": "dba779c6",
   "metadata": {},
   "outputs": [
    {
     "data": {
      "text/plain": [
       "(460444, 8)"
      ]
     },
     "execution_count": 4,
     "metadata": {},
     "output_type": "execute_result"
    }
   ],
   "source": [
    "df_tweets.shape"
   ]
  },
  {
   "cell_type": "code",
   "execution_count": 5,
   "id": "7cfb2a27",
   "metadata": {},
   "outputs": [
    {
     "data": {
      "text/html": [
       "<div>\n",
       "<style scoped>\n",
       "    .dataframe tbody tr th:only-of-type {\n",
       "        vertical-align: middle;\n",
       "    }\n",
       "\n",
       "    .dataframe tbody tr th {\n",
       "        vertical-align: top;\n",
       "    }\n",
       "\n",
       "    .dataframe thead th {\n",
       "        text-align: right;\n",
       "    }\n",
       "</style>\n",
       "<table border=\"1\" class=\"dataframe\">\n",
       "  <thead>\n",
       "    <tr style=\"text-align: right;\">\n",
       "      <th></th>\n",
       "      <th>id</th>\n",
       "      <th>text</th>\n",
       "      <th>created_at</th>\n",
       "      <th>retweet_count</th>\n",
       "      <th>reply_count</th>\n",
       "      <th>like_count</th>\n",
       "      <th>quote_count</th>\n",
       "      <th>place_id</th>\n",
       "    </tr>\n",
       "  </thead>\n",
       "  <tbody>\n",
       "    <tr>\n",
       "      <th>0</th>\n",
       "      <td>1488663169744711680</td>\n",
       "      <td>@xMBGx From what some people are saying, Sony ...</td>\n",
       "      <td>2022-02-01 23:58:52</td>\n",
       "      <td>0</td>\n",
       "      <td>0</td>\n",
       "      <td>0</td>\n",
       "      <td>0</td>\n",
       "      <td>NaN</td>\n",
       "    </tr>\n",
       "    <tr>\n",
       "      <th>1</th>\n",
       "      <td>1488663155479924741</td>\n",
       "      <td>Buy 50% off Silk Hydrangea Flowers #Dailydeals...</td>\n",
       "      <td>2022-02-01 23:58:48</td>\n",
       "      <td>0</td>\n",
       "      <td>0</td>\n",
       "      <td>0</td>\n",
       "      <td>0</td>\n",
       "      <td>NaN</td>\n",
       "    </tr>\n",
       "    <tr>\n",
       "      <th>2</th>\n",
       "      <td>1488663077142859777</td>\n",
       "      <td>i also need the gift by saturday which is the ...</td>\n",
       "      <td>2022-02-01 23:58:30</td>\n",
       "      <td>0</td>\n",
       "      <td>0</td>\n",
       "      <td>0</td>\n",
       "      <td>0</td>\n",
       "      <td>NaN</td>\n",
       "    </tr>\n",
       "    <tr>\n",
       "      <th>3</th>\n",
       "      <td>1488663061204373508</td>\n",
       "      <td>Bitch ass Amazon delivered my order in a clear...</td>\n",
       "      <td>2022-02-01 23:58:26</td>\n",
       "      <td>0</td>\n",
       "      <td>1</td>\n",
       "      <td>3</td>\n",
       "      <td>0</td>\n",
       "      <td>NaN</td>\n",
       "    </tr>\n",
       "    <tr>\n",
       "      <th>4</th>\n",
       "      <td>1488663059388407809</td>\n",
       "      <td>Redcandle's Detention is available to buy or r...</td>\n",
       "      <td>2022-02-01 23:58:26</td>\n",
       "      <td>0</td>\n",
       "      <td>0</td>\n",
       "      <td>0</td>\n",
       "      <td>0</td>\n",
       "      <td>NaN</td>\n",
       "    </tr>\n",
       "  </tbody>\n",
       "</table>\n",
       "</div>"
      ],
      "text/plain": [
       "                    id                                               text  \\\n",
       "0  1488663169744711680  @xMBGx From what some people are saying, Sony ...   \n",
       "1  1488663155479924741  Buy 50% off Silk Hydrangea Flowers #Dailydeals...   \n",
       "2  1488663077142859777  i also need the gift by saturday which is the ...   \n",
       "3  1488663061204373508  Bitch ass Amazon delivered my order in a clear...   \n",
       "4  1488663059388407809  Redcandle's Detention is available to buy or r...   \n",
       "\n",
       "            created_at  retweet_count  reply_count  like_count  quote_count  \\\n",
       "0  2022-02-01 23:58:52              0            0           0            0   \n",
       "1  2022-02-01 23:58:48              0            0           0            0   \n",
       "2  2022-02-01 23:58:30              0            0           0            0   \n",
       "3  2022-02-01 23:58:26              0            1           3            0   \n",
       "4  2022-02-01 23:58:26              0            0           0            0   \n",
       "\n",
       "  place_id  \n",
       "0      NaN  \n",
       "1      NaN  \n",
       "2      NaN  \n",
       "3      NaN  \n",
       "4      NaN  "
      ]
     },
     "execution_count": 5,
     "metadata": {},
     "output_type": "execute_result"
    }
   ],
   "source": [
    "df_tweets.head(5)"
   ]
  },
  {
   "cell_type": "markdown",
   "id": "7bb41aba",
   "metadata": {},
   "source": [
    "### Section 02: Exploratory Data Analysis"
   ]
  },
  {
   "cell_type": "code",
   "execution_count": 6,
   "id": "addaa355",
   "metadata": {},
   "outputs": [],
   "source": [
    "#calculating average tweet length and word count\n",
    "import numpy as np\n",
    "df_tweets['text_len'] = df_tweets['text'].astype(str).apply(len)\n",
    "df_tweets['text_word_count'] = df_tweets['text'].apply(lambda x: len(str(x).split()))"
   ]
  },
  {
   "cell_type": "code",
   "execution_count": 7,
   "id": "204c1103",
   "metadata": {},
   "outputs": [
    {
     "name": "stdout",
     "output_type": "stream",
     "text": [
      "Average length of tweets  162\n",
      "Average word counts of tweets 24\n"
     ]
    }
   ],
   "source": [
    "print(\"Average length of tweets \", round(np.mean(df_tweets['text_len'])))\n",
    "print(\"Average word counts of tweets\", round(np.mean(df_tweets['text_word_count'])))"
   ]
  },
  {
   "cell_type": "code",
   "execution_count": 8,
   "id": "7c18fee0",
   "metadata": {},
   "outputs": [
    {
     "data": {
      "text/plain": [
       "<AxesSubplot:title={'center':'Histogram by the word counts of all tweets'}, ylabel='Frequency'>"
      ]
     },
     "execution_count": 8,
     "metadata": {},
     "output_type": "execute_result"
    },
    {
     "data": {
      "image/png": "[encoded data removed]",
      "text/plain": [
       "<Figure size 432x288 with 1 Axes>"
      ]
     },
     "metadata": {},
     "output_type": "display_data"
    }
   ],
   "source": [
    "df_tweets['text_len'].plot(bins = 100, kind = 'hist',title = 'Histogram by length of tweets');\n",
    "df_tweets['text_word_count'].plot(bins = 100, kind = 'hist', title = 'Histogram by the word counts of all tweets')"
   ]
  },
  {
   "cell_type": "code",
   "execution_count": 9,
   "id": "b8ef3909",
   "metadata": {},
   "outputs": [
    {
     "data": {
      "text/plain": [
       "(-0.5, 399.5, 199.5, -0.5)"
      ]
     },
     "execution_count": 9,
     "metadata": {},
     "output_type": "execute_result"
    },
    {
     "data": {
      "image/png": "[encoded data removed]",
      "text/plain": [
       "<Figure size 720x864 with 1 Axes>"
      ]
     },
     "metadata": {},
     "output_type": "display_data"
    }
   ],
   "source": [
    "#Creating word cloud\n",
    "from wordcloud import WordCloud, ImageColorGenerator\n",
    "wc=WordCloud(collocations=False, max_font_size=55, max_words=25, background_color=\"white\")\n",
    "wc.generate(' '.join(df_tweets.text))\n",
    "plt.figure(figsize=(10,12))\n",
    "plt.imshow(wc, interpolation=\"bilinear\")\n",
    "plt.axis(\"off\")"
   ]
  },
  {
   "cell_type": "markdown",
   "id": "f3d9c22d",
   "metadata": {},
   "source": [
    "### Section 03: Data Preprocessing"
   ]
  },
  {
   "cell_type": "code",
   "execution_count": 10,
   "id": "2d8ba4d4",
   "metadata": {},
   "outputs": [
    {
     "name": "stderr",
     "output_type": "stream",
     "text": [
      "[nltk_data] Downloading package punkt to\n",
      "[nltk_data]     /Users/jackiejabson/nltk_data...\n",
      "[nltk_data]   Package punkt is already up-to-date!\n",
      "[nltk_data] Downloading package stopwords to\n",
      "[nltk_data]     /Users/jackiejabson/nltk_data...\n",
      "[nltk_data]   Package stopwords is already up-to-date!\n"
     ]
    }
   ],
   "source": [
    "import nltk\n",
    "nltk.download('punkt')\n",
    "nltk.download('stopwords')\n",
    "from nltk.corpus import stopwords\n",
    "from nltk.stem import SnowballStemmer\n",
    "from nltk.tokenize import word_tokenize\n",
    "from nltk.stem import WordNetLemmatizer\n",
    "\n",
    "import re\n",
    "import string\n"
   ]
  },
  {
   "cell_type": "code",
   "execution_count": 11,
   "id": "904ccf08",
   "metadata": {},
   "outputs": [],
   "source": [
    "def remove_duplicates(text):\n",
    "    pattern = re.compile(r\"(.)\\1{2,}\")\n",
    "    return pattern.sub(r\"\\1\\1\", text)"
   ]
  },
  {
   "cell_type": "code",
   "execution_count": 12,
   "id": "f78654df",
   "metadata": {},
   "outputs": [],
   "source": [
    "df_tweets['text'] = df_tweets['text'].apply(remove_duplicates)"
   ]
  },
  {
   "cell_type": "code",
   "execution_count": 13,
   "id": "141e409b",
   "metadata": {},
   "outputs": [
    {
     "data": {
      "text/plain": [
       "<bound method Series.dropna of 0         @xMBGx From what some people are saying, Sony ...\n",
       "1         Buy 50% off Silk Hydrangea Flowers #Dailydeals...\n",
       "2         i also need the gift by saturday which is the ...\n",
       "3         Bitch ass Amazon delivered my order in a clear...\n",
       "4         Redcandle's Detention is available to buy or r...\n",
       "                                ...                        \n",
       "460439    Netflix, Amazon prime e disney plus https://t....\n",
       "460440    Free $100 Amazon Gift Card Giveaway https://t....\n",
       "460441    Hey!  @alexa99 Does Not Approve of \"Your Racis...\n",
       "460442    @bry_farrell Hi. We're sorry to hear about the...\n",
       "460443    RT @FragozoJr: @NotWoofers Forget Amazon prime...\n",
       "Name: text, Length: 460444, dtype: object>"
      ]
     },
     "execution_count": 13,
     "metadata": {},
     "output_type": "execute_result"
    }
   ],
   "source": [
    "df_tweets['text'].dropna"
   ]
  },
  {
   "cell_type": "code",
   "execution_count": 14,
   "id": "50cd1ec7",
   "metadata": {},
   "outputs": [],
   "source": [
    "def clean(text):\n",
    "    wn = nltk.WordNetLemmatizer() \n",
    "    stopword = nltk.corpus.stopwords.words('english')\n",
    "    tokens = nltk.word_tokenize(text)\n",
    "    lower = [word.lower() for word in tokens]\n",
    "    no_stopwords = [word for word in lower if word not in stopword]\n",
    "    no_alpha = [word for word in no_stopwords if word.isalpha()]\n",
    "    lemm_text = [wn.lemmatize(word) for word in no_alpha]\n",
    "    clean_text = lemm_text\n",
    "    remove_mentions = re.sub(r'(@|https?)\\S+|#', '', text)\n",
    "    remove_hash = remove_mentions.replace(r'#', \" \")\n",
    "    remove_url = re.sub(r'(?:https?|ftp):\\/\\/[\\n\\S]+/g', '', text)\n",
    "    return clean_text"
   ]
  },
  {
   "cell_type": "code",
   "execution_count": 15,
   "id": "fbcfac1a",
   "metadata": {},
   "outputs": [],
   "source": [
    "df_tweets['text'] = df_tweets['text'].apply(clean)"
   ]
  },
  {
   "cell_type": "code",
   "execution_count": 16,
   "id": "91335f63",
   "metadata": {},
   "outputs": [
    {
     "data": {
      "text/html": [
       "<div>\n",
       "<style scoped>\n",
       "    .dataframe tbody tr th:only-of-type {\n",
       "        vertical-align: middle;\n",
       "    }\n",
       "\n",
       "    .dataframe tbody tr th {\n",
       "        vertical-align: top;\n",
       "    }\n",
       "\n",
       "    .dataframe thead th {\n",
       "        text-align: right;\n",
       "    }\n",
       "</style>\n",
       "<table border=\"1\" class=\"dataframe\">\n",
       "  <thead>\n",
       "    <tr style=\"text-align: right;\">\n",
       "      <th></th>\n",
       "      <th>id</th>\n",
       "      <th>text</th>\n",
       "      <th>created_at</th>\n",
       "      <th>retweet_count</th>\n",
       "      <th>reply_count</th>\n",
       "      <th>like_count</th>\n",
       "      <th>quote_count</th>\n",
       "      <th>place_id</th>\n",
       "      <th>text_len</th>\n",
       "      <th>text_word_count</th>\n",
       "    </tr>\n",
       "  </thead>\n",
       "  <tbody>\n",
       "    <tr>\n",
       "      <th>0</th>\n",
       "      <td>1488663169744711680</td>\n",
       "      <td>[xmbgx, people, saying, sony, microsoft, going...</td>\n",
       "      <td>2022-02-01 23:58:52</td>\n",
       "      <td>0</td>\n",
       "      <td>0</td>\n",
       "      <td>0</td>\n",
       "      <td>0</td>\n",
       "      <td>NaN</td>\n",
       "      <td>275</td>\n",
       "      <td>48</td>\n",
       "    </tr>\n",
       "    <tr>\n",
       "      <th>1</th>\n",
       "      <td>1488663155479924741</td>\n",
       "      <td>[buy, silk, hydrangea, flower, dailydeals, dis...</td>\n",
       "      <td>2022-02-01 23:58:48</td>\n",
       "      <td>0</td>\n",
       "      <td>0</td>\n",
       "      <td>0</td>\n",
       "      <td>0</td>\n",
       "      <td>NaN</td>\n",
       "      <td>151</td>\n",
       "      <td>16</td>\n",
       "    </tr>\n",
       "    <tr>\n",
       "      <th>2</th>\n",
       "      <td>1488663077142859777</td>\n",
       "      <td>[also, need, gift, saturday, day, come, back, ...</td>\n",
       "      <td>2022-02-01 23:58:30</td>\n",
       "      <td>0</td>\n",
       "      <td>0</td>\n",
       "      <td>0</td>\n",
       "      <td>0</td>\n",
       "      <td>NaN</td>\n",
       "      <td>143</td>\n",
       "      <td>26</td>\n",
       "    </tr>\n",
       "    <tr>\n",
       "      <th>3</th>\n",
       "      <td>1488663061204373508</td>\n",
       "      <td>[bitch, as, amazon, delivered, order, clear, p...</td>\n",
       "      <td>2022-02-01 23:58:26</td>\n",
       "      <td>0</td>\n",
       "      <td>1</td>\n",
       "      <td>3</td>\n",
       "      <td>0</td>\n",
       "      <td>NaN</td>\n",
       "      <td>88</td>\n",
       "      <td>18</td>\n",
       "    </tr>\n",
       "    <tr>\n",
       "      <th>4</th>\n",
       "      <td>1488663059388407809</td>\n",
       "      <td>[redcandle, detention, available, buy, rent, a...</td>\n",
       "      <td>2022-02-01 23:58:26</td>\n",
       "      <td>0</td>\n",
       "      <td>0</td>\n",
       "      <td>0</td>\n",
       "      <td>0</td>\n",
       "      <td>NaN</td>\n",
       "      <td>87</td>\n",
       "      <td>14</td>\n",
       "    </tr>\n",
       "  </tbody>\n",
       "</table>\n",
       "</div>"
      ],
      "text/plain": [
       "                    id                                               text  \\\n",
       "0  1488663169744711680  [xmbgx, people, saying, sony, microsoft, going...   \n",
       "1  1488663155479924741  [buy, silk, hydrangea, flower, dailydeals, dis...   \n",
       "2  1488663077142859777  [also, need, gift, saturday, day, come, back, ...   \n",
       "3  1488663061204373508  [bitch, as, amazon, delivered, order, clear, p...   \n",
       "4  1488663059388407809  [redcandle, detention, available, buy, rent, a...   \n",
       "\n",
       "            created_at  retweet_count  reply_count  like_count  quote_count  \\\n",
       "0  2022-02-01 23:58:52              0            0           0            0   \n",
       "1  2022-02-01 23:58:48              0            0           0            0   \n",
       "2  2022-02-01 23:58:30              0            0           0            0   \n",
       "3  2022-02-01 23:58:26              0            1           3            0   \n",
       "4  2022-02-01 23:58:26              0            0           0            0   \n",
       "\n",
       "  place_id  text_len  text_word_count  \n",
       "0      NaN       275               48  \n",
       "1      NaN       151               16  \n",
       "2      NaN       143               26  \n",
       "3      NaN        88               18  \n",
       "4      NaN        87               14  "
      ]
     },
     "execution_count": 16,
     "metadata": {},
     "output_type": "execute_result"
    }
   ],
   "source": [
    "df_tweets.head(5)"
   ]
  },
  {
   "cell_type": "markdown",
   "id": "c0630839",
   "metadata": {},
   "source": [
    "### Section 03: Sentiment Analysis"
   ]
  },
  {
   "cell_type": "code",
   "execution_count": 17,
   "id": "e581fca1",
   "metadata": {},
   "outputs": [],
   "source": [
    "from nltk.sentiment.vader import SentimentIntensityAnalyzer\n",
    "from tqdm.notebook import tqdm "
   ]
  },
  {
   "cell_type": "code",
   "execution_count": 18,
   "id": "12c63d56",
   "metadata": {},
   "outputs": [],
   "source": [
    "sia = SentimentIntensityAnalyzer()"
   ]
  },
  {
   "cell_type": "code",
   "execution_count": 19,
   "id": "e4014b5a",
   "metadata": {},
   "outputs": [],
   "source": [
    "sentiment_tweets = df_tweets.drop(['retweet_count','reply_count', 'quote_count', 'place_id', 'like_count' ], axis = 1)"
   ]
  },
  {
   "cell_type": "code",
   "execution_count": 20,
   "id": "3bba2bbf",
   "metadata": {
    "scrolled": true
   },
   "outputs": [
    {
     "data": {
      "text/html": [
       "<div>\n",
       "<style scoped>\n",
       "    .dataframe tbody tr th:only-of-type {\n",
       "        vertical-align: middle;\n",
       "    }\n",
       "\n",
       "    .dataframe tbody tr th {\n",
       "        vertical-align: top;\n",
       "    }\n",
       "\n",
       "    .dataframe thead th {\n",
       "        text-align: right;\n",
       "    }\n",
       "</style>\n",
       "<table border=\"1\" class=\"dataframe\">\n",
       "  <thead>\n",
       "    <tr style=\"text-align: right;\">\n",
       "      <th></th>\n",
       "      <th>id</th>\n",
       "      <th>text</th>\n",
       "      <th>created_at</th>\n",
       "      <th>text_len</th>\n",
       "      <th>text_word_count</th>\n",
       "    </tr>\n",
       "  </thead>\n",
       "  <tbody>\n",
       "    <tr>\n",
       "      <th>0</th>\n",
       "      <td>1488663169744711680</td>\n",
       "      <td>[xmbgx, people, saying, sony, microsoft, going...</td>\n",
       "      <td>2022-02-01 23:58:52</td>\n",
       "      <td>275</td>\n",
       "      <td>48</td>\n",
       "    </tr>\n",
       "    <tr>\n",
       "      <th>1</th>\n",
       "      <td>1488663155479924741</td>\n",
       "      <td>[buy, silk, hydrangea, flower, dailydeals, dis...</td>\n",
       "      <td>2022-02-01 23:58:48</td>\n",
       "      <td>151</td>\n",
       "      <td>16</td>\n",
       "    </tr>\n",
       "    <tr>\n",
       "      <th>2</th>\n",
       "      <td>1488663077142859777</td>\n",
       "      <td>[also, need, gift, saturday, day, come, back, ...</td>\n",
       "      <td>2022-02-01 23:58:30</td>\n",
       "      <td>143</td>\n",
       "      <td>26</td>\n",
       "    </tr>\n",
       "  </tbody>\n",
       "</table>\n",
       "</div>"
      ],
      "text/plain": [
       "                    id                                               text  \\\n",
       "0  1488663169744711680  [xmbgx, people, saying, sony, microsoft, going...   \n",
       "1  1488663155479924741  [buy, silk, hydrangea, flower, dailydeals, dis...   \n",
       "2  1488663077142859777  [also, need, gift, saturday, day, come, back, ...   \n",
       "\n",
       "            created_at  text_len  text_word_count  \n",
       "0  2022-02-01 23:58:52       275               48  \n",
       "1  2022-02-01 23:58:48       151               16  \n",
       "2  2022-02-01 23:58:30       143               26  "
      ]
     },
     "execution_count": 20,
     "metadata": {},
     "output_type": "execute_result"
    }
   ],
   "source": [
    "sentiment_tweets.head(3)"
   ]
  },
  {
   "cell_type": "code",
   "execution_count": 21,
   "id": "26dd5dba",
   "metadata": {},
   "outputs": [],
   "source": [
    "def calculate_sentiment(text, category):\n",
    "    try:\n",
    "        # Run VADER on the text\n",
    "        scores = sia.polarity_scores(\" \".join(text))\n",
    "        return scores.get(category)\n",
    "    except:\n",
    "        return \"N/A\""
   ]
  },
  {
   "cell_type": "code",
   "execution_count": 22,
   "id": "448f2412",
   "metadata": {},
   "outputs": [],
   "source": [
    "def sentimentLabel(sentiment_score):\n",
    "    if sentiment_score >= 0.05:\n",
    "        return \"Positive\"\n",
    "    elif sentiment_score <= -0.05: \n",
    "        return \"Negative\"\n",
    "    else:\n",
    "        return \"Neutral\""
   ]
  },
  {
   "cell_type": "code",
   "execution_count": 23,
   "id": "0ca4a44c",
   "metadata": {},
   "outputs": [],
   "source": [
    "# sentiment_tweets[\"negative_score\"] = sentiment_tweets.apply(lambda row: \n",
    "#                                                 calculate_sentiment(row['text'], \"neg\"), axis = 1)\n",
    "# sentiment_tweets[\"neutral_score\"] = sentiment_tweets.apply(lambda row: \n",
    "#                                                 calculate_sentiment(row['text'], \"neu\"), axis = 1)\n",
    "# sentiment_tweets[\"postive_score\"] = sentiment_tweets.apply(lambda row: \n",
    "#                                                 calculate_sentiment(row['text'], \"pos\"), axis = 1)\n",
    "sentiment_tweets[\"compound_score\"] = sentiment_tweets.apply(lambda row: \n",
    "                                                calculate_sentiment(row['text'], \"compound\"), axis = 1)\n",
    "sentiment_tweets[\"sentiment\"] = sentiment_tweets.apply(lambda row:\n",
    "                                                        sentimentLabel(row['compound_score']), axis = 1)"
   ]
  },
  {
   "cell_type": "code",
   "execution_count": 24,
   "id": "0fc2c328",
   "metadata": {},
   "outputs": [
    {
     "data": {
      "text/html": [
       "<div>\n",
       "<style scoped>\n",
       "    .dataframe tbody tr th:only-of-type {\n",
       "        vertical-align: middle;\n",
       "    }\n",
       "\n",
       "    .dataframe tbody tr th {\n",
       "        vertical-align: top;\n",
       "    }\n",
       "\n",
       "    .dataframe thead th {\n",
       "        text-align: right;\n",
       "    }\n",
       "</style>\n",
       "<table border=\"1\" class=\"dataframe\">\n",
       "  <thead>\n",
       "    <tr style=\"text-align: right;\">\n",
       "      <th></th>\n",
       "      <th>id</th>\n",
       "      <th>text</th>\n",
       "      <th>created_at</th>\n",
       "      <th>text_len</th>\n",
       "      <th>text_word_count</th>\n",
       "      <th>compound_score</th>\n",
       "      <th>sentiment</th>\n",
       "    </tr>\n",
       "  </thead>\n",
       "  <tbody>\n",
       "    <tr>\n",
       "      <th>0</th>\n",
       "      <td>1488663169744711680</td>\n",
       "      <td>[xmbgx, people, saying, sony, microsoft, going...</td>\n",
       "      <td>2022-02-01 23:58:52</td>\n",
       "      <td>275</td>\n",
       "      <td>48</td>\n",
       "      <td>-0.3400</td>\n",
       "      <td>Negative</td>\n",
       "    </tr>\n",
       "    <tr>\n",
       "      <th>1</th>\n",
       "      <td>1488663155479924741</td>\n",
       "      <td>[buy, silk, hydrangea, flower, dailydeals, dis...</td>\n",
       "      <td>2022-02-01 23:58:48</td>\n",
       "      <td>151</td>\n",
       "      <td>16</td>\n",
       "      <td>0.1779</td>\n",
       "      <td>Positive</td>\n",
       "    </tr>\n",
       "    <tr>\n",
       "      <th>2</th>\n",
       "      <td>1488663077142859777</td>\n",
       "      <td>[also, need, gift, saturday, day, come, back, ...</td>\n",
       "      <td>2022-02-01 23:58:30</td>\n",
       "      <td>143</td>\n",
       "      <td>26</td>\n",
       "      <td>0.7579</td>\n",
       "      <td>Positive</td>\n",
       "    </tr>\n",
       "    <tr>\n",
       "      <th>3</th>\n",
       "      <td>1488663061204373508</td>\n",
       "      <td>[bitch, as, amazon, delivered, order, clear, p...</td>\n",
       "      <td>2022-02-01 23:58:26</td>\n",
       "      <td>88</td>\n",
       "      <td>18</td>\n",
       "      <td>0.3400</td>\n",
       "      <td>Positive</td>\n",
       "    </tr>\n",
       "    <tr>\n",
       "      <th>4</th>\n",
       "      <td>1488663059388407809</td>\n",
       "      <td>[redcandle, detention, available, buy, rent, a...</td>\n",
       "      <td>2022-02-01 23:58:26</td>\n",
       "      <td>87</td>\n",
       "      <td>14</td>\n",
       "      <td>0.1531</td>\n",
       "      <td>Positive</td>\n",
       "    </tr>\n",
       "    <tr>\n",
       "      <th>5</th>\n",
       "      <td>1488663044486008833</td>\n",
       "      <td>[sorry, see, order, left, inappropriate, locat...</td>\n",
       "      <td>2022-02-01 23:58:22</td>\n",
       "      <td>221</td>\n",
       "      <td>31</td>\n",
       "      <td>-0.0772</td>\n",
       "      <td>Negative</td>\n",
       "    </tr>\n",
       "    <tr>\n",
       "      <th>6</th>\n",
       "      <td>1488663042376224772</td>\n",
       "      <td>[rt, literaryeric, amazon, book, ranking, mean...</td>\n",
       "      <td>2022-02-01 23:58:21</td>\n",
       "      <td>140</td>\n",
       "      <td>26</td>\n",
       "      <td>0.1779</td>\n",
       "      <td>Positive</td>\n",
       "    </tr>\n",
       "    <tr>\n",
       "      <th>7</th>\n",
       "      <td>1488663026454695941</td>\n",
       "      <td>[rt, jeremyclarkson, stevewoozy, bbc, netflix,...</td>\n",
       "      <td>2022-02-01 23:58:18</td>\n",
       "      <td>87</td>\n",
       "      <td>11</td>\n",
       "      <td>0.1779</td>\n",
       "      <td>Positive</td>\n",
       "    </tr>\n",
       "    <tr>\n",
       "      <th>8</th>\n",
       "      <td>1488662940433764352</td>\n",
       "      <td>[thanks, like, safely, say, account, specialis...</td>\n",
       "      <td>2022-02-01 23:57:57</td>\n",
       "      <td>294</td>\n",
       "      <td>48</td>\n",
       "      <td>0.9312</td>\n",
       "      <td>Positive</td>\n",
       "    </tr>\n",
       "    <tr>\n",
       "      <th>9</th>\n",
       "      <td>1488662922264027138</td>\n",
       "      <td>[yes, watched, amazon, prime, night]</td>\n",
       "      <td>2022-02-01 23:57:53</td>\n",
       "      <td>73</td>\n",
       "      <td>13</td>\n",
       "      <td>0.5267</td>\n",
       "      <td>Positive</td>\n",
       "    </tr>\n",
       "  </tbody>\n",
       "</table>\n",
       "</div>"
      ],
      "text/plain": [
       "                    id                                               text  \\\n",
       "0  1488663169744711680  [xmbgx, people, saying, sony, microsoft, going...   \n",
       "1  1488663155479924741  [buy, silk, hydrangea, flower, dailydeals, dis...   \n",
       "2  1488663077142859777  [also, need, gift, saturday, day, come, back, ...   \n",
       "3  1488663061204373508  [bitch, as, amazon, delivered, order, clear, p...   \n",
       "4  1488663059388407809  [redcandle, detention, available, buy, rent, a...   \n",
       "5  1488663044486008833  [sorry, see, order, left, inappropriate, locat...   \n",
       "6  1488663042376224772  [rt, literaryeric, amazon, book, ranking, mean...   \n",
       "7  1488663026454695941  [rt, jeremyclarkson, stevewoozy, bbc, netflix,...   \n",
       "8  1488662940433764352  [thanks, like, safely, say, account, specialis...   \n",
       "9  1488662922264027138               [yes, watched, amazon, prime, night]   \n",
       "\n",
       "            created_at  text_len  text_word_count  compound_score sentiment  \n",
       "0  2022-02-01 23:58:52       275               48         -0.3400  Negative  \n",
       "1  2022-02-01 23:58:48       151               16          0.1779  Positive  \n",
       "2  2022-02-01 23:58:30       143               26          0.7579  Positive  \n",
       "3  2022-02-01 23:58:26        88               18          0.3400  Positive  \n",
       "4  2022-02-01 23:58:26        87               14          0.1531  Positive  \n",
       "5  2022-02-01 23:58:22       221               31         -0.0772  Negative  \n",
       "6  2022-02-01 23:58:21       140               26          0.1779  Positive  \n",
       "7  2022-02-01 23:58:18        87               11          0.1779  Positive  \n",
       "8  2022-02-01 23:57:57       294               48          0.9312  Positive  \n",
       "9  2022-02-01 23:57:53        73               13          0.5267  Positive  "
      ]
     },
     "execution_count": 24,
     "metadata": {},
     "output_type": "execute_result"
    }
   ],
   "source": [
    "sentiment_tweets.head(10)"
   ]
  },
  {
   "cell_type": "code",
   "execution_count": 25,
   "id": "9c80369b",
   "metadata": {},
   "outputs": [
    {
     "data": {
      "image/png": "[encoded data removed]",
      "text/plain": [
       "<Figure size 720x360 with 1 Axes>"
      ]
     },
     "metadata": {},
     "output_type": "display_data"
    }
   ],
   "source": [
    "#Sentiment Distribution\n",
    "ax = sentiment_tweets['sentiment'].value_counts().sort_index() \\\n",
    "    .plot(kind='bar', #type of graph\n",
    "          title='Sentiment Distribution across all Tweets',\n",
    "          figsize=(10, 5))\n",
    "ax.set_xlabel('sentiment')\n",
    "plt.show()"
   ]
  },
  {
   "cell_type": "code",
   "execution_count": 26,
   "id": "e52473a1",
   "metadata": {},
   "outputs": [
    {
     "data": {
      "text/plain": [
       "<matplotlib.legend.Legend at 0x7fd6508f7c40>"
      ]
     },
     "execution_count": 26,
     "metadata": {},
     "output_type": "execute_result"
    },
    {
     "data": {
      "image/png": "[encoded data removed]",
      "text/plain": [
       "<Figure size 432x288 with 1 Axes>"
      ]
     },
     "metadata": {},
     "output_type": "display_data"
    }
   ],
   "source": [
    "#plot reviews\n",
    "df_pie = sentiment_tweets['sentiment'].value_counts()\n",
    "df_pie.plot(kind='pie', title='Distribution of Sentiment Categories')\n",
    "labels=[\"Positive\",\"Negative\", \"Neutral\"]\n",
    "plt.legend(labels,loc=3)"
   ]
  },
  {
   "cell_type": "code",
   "execution_count": 27,
   "id": "abc64e9a",
   "metadata": {},
   "outputs": [
    {
     "data": {
      "text/plain": [
       "(460444, 7)"
      ]
     },
     "execution_count": 27,
     "metadata": {},
     "output_type": "execute_result"
    }
   ],
   "source": [
    "sentiment_tweets.shape"
   ]
  },
  {
   "cell_type": "markdown",
   "id": "23fee5e3",
   "metadata": {},
   "source": [
    "### Section 04: Export File"
   ]
  },
  {
   "cell_type": "code",
   "execution_count": null,
   "id": "1e442908",
   "metadata": {},
   "outputs": [],
   "source": [
    "sentiment_tweets.to_csv('sentiment_twitterdata.csv')"
   ]
  },
  {
   "cell_type": "code",
   "execution_count": null,
   "id": "b0b3cec7",
   "metadata": {},
   "outputs": [],
   "source": []
  }
 ],
 "metadata": {
  "kernelspec": {
   "display_name": "Python 3 (ipykernel)",
   "language": "python",
   "name": "python3"
  },
  "language_info": {
   "codemirror_mode": {
    "name": "ipython",
    "version": 3
   },
   "file_extension": ".py",
   "mimetype": "text/x-python",
   "name": "python",
   "nbconvert_exporter": "python",
   "pygments_lexer": "ipython3",
   "version": "3.9.7"
  }
 },
 "nbformat": 4,
 "nbformat_minor": 5
}
